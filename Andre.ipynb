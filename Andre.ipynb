{
 "cells": [
  {
   "cell_type": "code",
   "execution_count": 14,
   "metadata": {},
   "outputs": [
    {
     "name": "stderr",
     "output_type": "stream",
     "text": [
      "2023-04-05 11:51:46.503764: W tensorflow/stream_executor/platform/default/dso_loader.cc:64] Could not load dynamic library 'libcudart.so.11.0'; dlerror: libcudart.so.11.0: cannot open shared object file: No such file or directory\n",
      "2023-04-05 11:51:46.503792: I tensorflow/stream_executor/cuda/cudart_stub.cc:29] Ignore above cudart dlerror if you do not have a GPU set up on your machine.\n"
     ]
    }
   ],
   "source": [
    "from transformers import AutoTokenizer, AutoModelForTokenClassification, pipeline\n",
    "\n",
    "model = AutoModelForTokenClassification.from_pretrained(\"noeminaepli/swiss_german_pos_model\")\n",
    "tokenizer = AutoTokenizer.from_pretrained(\"noeminaepli/swiss_german_pos_model\")\n",
    "\n",
    "pos_tagger = pipeline('ner', model=model, tokenizer=tokenizer, aggregation_strategy=\"simple\")"
   ]
  },
  {
   "cell_type": "code",
   "execution_count": 23,
   "metadata": {},
   "outputs": [],
   "source": [
    "test_phrase = \"Mir gaht's guet hüt.\""
   ]
  },
  {
   "cell_type": "code",
   "execution_count": 24,
   "metadata": {},
   "outputs": [
    {
     "data": {
      "text/plain": [
       "[{'entity_group': 'PRON',\n",
       "  'score': 0.99985135,\n",
       "  'word': 'Mir',\n",
       "  'start': 0,\n",
       "  'end': 3},\n",
       " {'entity_group': 'VERB',\n",
       "  'score': 0.9999095,\n",
       "  'word': 'gaht',\n",
       "  'start': 4,\n",
       "  'end': 8},\n",
       " {'entity_group': 'PUNCT',\n",
       "  'score': 0.99984646,\n",
       "  'word': \"'\",\n",
       "  'start': 8,\n",
       "  'end': 9},\n",
       " {'entity_group': 'PRON',\n",
       "  'score': 0.9998616,\n",
       "  'word': 's',\n",
       "  'start': 9,\n",
       "  'end': 10},\n",
       " {'entity_group': 'ADJ',\n",
       "  'score': 0.98211837,\n",
       "  'word': 'guet',\n",
       "  'start': 11,\n",
       "  'end': 15},\n",
       " {'entity_group': 'ADV',\n",
       "  'score': 0.9887656,\n",
       "  'word': 'hüt',\n",
       "  'start': 16,\n",
       "  'end': 19},\n",
       " {'entity_group': 'PUNCT',\n",
       "  'score': 0.9999949,\n",
       "  'word': '.',\n",
       "  'start': 19,\n",
       "  'end': 20}]"
      ]
     },
     "execution_count": 24,
     "metadata": {},
     "output_type": "execute_result"
    }
   ],
   "source": [
    "pos_tagger(test_phrase)"
   ]
  },
  {
   "cell_type": "code",
   "execution_count": 17,
   "metadata": {},
   "outputs": [
    {
     "name": "stdout",
     "output_type": "stream",
     "text": [
      "['positive']\n"
     ]
    }
   ],
   "source": [
    "from germansentiment import SentimentModel\n",
    "\n",
    "model = SentimentModel()\n",
    "\n",
    "texts = [test_phrase]\n",
    "       \n",
    "result = model.predict_sentiment(texts)\n",
    "print(result)"
   ]
  },
  {
   "cell_type": "code",
   "execution_count": 18,
   "metadata": {},
   "outputs": [],
   "source": [
    "import dask\n",
    "import dask.dataframe as dd"
   ]
  },
  {
   "cell_type": "code",
   "execution_count": 25,
   "metadata": {},
   "outputs": [],
   "source": [
    "# read csv with dask\n",
    "df = dd.read_csv(\"dataset/sentiment.csv\", sep=\",\")"
   ]
  },
  {
   "cell_type": "code",
   "execution_count": 34,
   "metadata": {},
   "outputs": [
    {
     "data": {
      "text/plain": [
       "0    0\n",
       "1    1\n",
       "2    4\n",
       "3    2\n",
       "4    3\n",
       "Name: unsure, dtype: int64"
      ]
     },
     "execution_count": 34,
     "metadata": {},
     "output_type": "execute_result"
    }
   ],
   "source": [
    "df['unsure'].unique().compute()"
   ]
  }
 ],
 "metadata": {
  "kernelspec": {
   "display_name": "Python 3",
   "language": "python",
   "name": "python3"
  },
  "language_info": {
   "codemirror_mode": {
    "name": "ipython",
    "version": 3
   },
   "file_extension": ".py",
   "mimetype": "text/x-python",
   "name": "python",
   "nbconvert_exporter": "python",
   "pygments_lexer": "ipython3",
   "version": "3.8.10"
  },
  "orig_nbformat": 4
 },
 "nbformat": 4,
 "nbformat_minor": 2
}
