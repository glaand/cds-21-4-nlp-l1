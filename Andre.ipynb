{
 "cells": [
  {
   "cell_type": "code",
   "execution_count": 28,
   "metadata": {},
   "outputs": [],
   "source": [
    "from transformers import AutoTokenizer, AutoModelForTokenClassification, pipeline\n",
    "\n",
    "model = AutoModelForTokenClassification.from_pretrained(\"noeminaepli/swiss_german_pos_model\")\n",
    "tokenizer = AutoTokenizer.from_pretrained(\"noeminaepli/swiss_german_pos_model\")\n",
    "\n",
    "pos_tagger = pipeline('ner', model=model, tokenizer=tokenizer, aggregation_strategy=\"simple\")"
   ]
  },
  {
   "cell_type": "code",
   "execution_count": 29,
   "metadata": {},
   "outputs": [],
   "source": [
    "test_phrase = \"Mir geht es schön heute.\""
   ]
  },
  {
   "cell_type": "code",
   "execution_count": 30,
   "metadata": {},
   "outputs": [
    {
     "data": {
      "text/plain": [
       "[{'entity_group': 'PRON',\n",
       "  'score': 0.99978703,\n",
       "  'word': 'Mir',\n",
       "  'start': 0,\n",
       "  'end': 3},\n",
       " {'entity_group': 'VERB',\n",
       "  'score': 0.99988294,\n",
       "  'word': 'geht',\n",
       "  'start': 4,\n",
       "  'end': 8},\n",
       " {'entity_group': 'PRON',\n",
       "  'score': 0.99981314,\n",
       "  'word': 'es',\n",
       "  'start': 9,\n",
       "  'end': 11},\n",
       " {'entity_group': 'ADJ',\n",
       "  'score': 0.99984276,\n",
       "  'word': 'schön',\n",
       "  'start': 12,\n",
       "  'end': 17},\n",
       " {'entity_group': 'ADV',\n",
       "  'score': 0.99989855,\n",
       "  'word': 'heute',\n",
       "  'start': 18,\n",
       "  'end': 23},\n",
       " {'entity_group': 'PUNCT',\n",
       "  'score': 0.9999939,\n",
       "  'word': '.',\n",
       "  'start': 23,\n",
       "  'end': 24}]"
      ]
     },
     "execution_count": 30,
     "metadata": {},
     "output_type": "execute_result"
    }
   ],
   "source": [
    "pos_tagger(test_phrase)"
   ]
  },
  {
   "cell_type": "code",
   "execution_count": 31,
   "metadata": {},
   "outputs": [
    {
     "name": "stdout",
     "output_type": "stream",
     "text": [
      "['positive']\n"
     ]
    }
   ],
   "source": [
    "from germansentiment import SentimentModel\n",
    "\n",
    "model = SentimentModel()\n",
    "\n",
    "texts = [test_phrase]\n",
    "       \n",
    "result = model.predict_sentiment(texts)\n",
    "print(result)"
   ]
  }
 ],
 "metadata": {
  "kernelspec": {
   "display_name": "Python 3",
   "language": "python",
   "name": "python3"
  },
  "language_info": {
   "codemirror_mode": {
    "name": "ipython",
    "version": 3
   },
   "file_extension": ".py",
   "mimetype": "text/x-python",
   "name": "python",
   "nbconvert_exporter": "python",
   "pygments_lexer": "ipython3",
   "version": "3.8.10"
  },
  "orig_nbformat": 4
 },
 "nbformat": 4,
 "nbformat_minor": 2
}
