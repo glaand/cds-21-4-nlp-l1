{
 "cells": [
  {
   "attachments": {},
   "cell_type": "markdown",
   "metadata": {},
   "source": [
    "Smiley Conversion"
   ]
  },
  {
   "cell_type": "code",
   "execution_count": 45,
   "metadata": {},
   "outputs": [],
   "source": [
    "import emot\n",
    "from deep_translator import GoogleTranslator\n",
    "from googletrans import Translator\n",
    "import re"
   ]
  },
  {
   "attachments": {},
   "cell_type": "markdown",
   "metadata": {},
   "source": [
    "#### Function to get the right english translation \n",
    "from the 'mean' value in the dictionary returned by the <code>emoticon()</code> function"
   ]
  },
  {
   "cell_type": "code",
   "execution_count": 46,
   "metadata": {},
   "outputs": [],
   "source": [
    "'''\n",
    "1. '^[^\\s,]+,': match the first word before the first comma\n",
    "    - ^:        start of the string\n",
    "    - [^\\s,]+:  match any character that is not a space or a comma, one or more times\n",
    "\n",
    "2. '^[^,]+,\\s*(\\w+)': match the first word after the first comma if there are multiple words before the comma\n",
    "    - ^:        start of the string\n",
    "    - [^,]+:    one or more characters that are not commas, followed by a comma\n",
    "    - \\s*:      zero or more whitespace characters (e.g., spaces or tabs)\n",
    "    - (\\w+):    one or more word characters (e.g., letters, digits, or underscores), captured in a group\n",
    "    \n",
    "3. '^\\s*([\\w\\s]+?)\\s*or\\b': match the first words before the word 'or'\n",
    "    - ^:            start of the string\n",
    "    - \\s*:          zero or more whitespace characters (e.g., spaces or tabs)\n",
    "    - ([\\w\\s]+?):   one or more word characters (e.g., letters, digits, or underscores), or whitespace characters, captured in a non-greedy group\n",
    "    - \\s*:          zero or more whitespace characters\n",
    "    - or\\b:         the word \"or\", followed by a word boundary (to avoid matching words like \"order\" or \"orange\")\n",
    "'''\n",
    "def replacer(meanings):\n",
    "    regex = re.compile(r'^[^\\s,]+,')\n",
    "    match = regex.match(meanings)\n",
    "    if match:\n",
    "        return match.group(0)[:-1]\n",
    "    \n",
    "    regex = re.compile(r'^[^,]+,\\s*(\\w+)')\n",
    "    match = regex.match(meanings)\n",
    "    if match:\n",
    "        return match.group(1)\n",
    "    \n",
    "    regex = re.compile(r'^\\s*([\\w\\s]+?)\\s*or\\b')\n",
    "    match = regex.match(meanings)\n",
    "    if match:\n",
    "        return match.group(1)\n",
    "    \n",
    "    return meanings"
   ]
  },
  {
   "cell_type": "code",
   "execution_count": 47,
   "metadata": {},
   "outputs": [
    {
     "data": {
      "text/plain": [
       "'Hoi Andre i bi nöd bös Skeptisch, Lachen, frech, Glückliches Gesicht, Stirnrunzeln, Sehr glückliches Gesicht, Sehr sehr glückliches Gesicht, Smiley mit fröhlichem Gesicht'"
      ]
     },
     "execution_count": 47,
     "metadata": {},
     "output_type": "execute_result"
    }
   ],
   "source": [
    "def translate_emoticons(text):\n",
    "    emotions = emot.core.emot().emoticons(text)\n",
    "    translated = GoogleTranslator(source='auto', target='de')\n",
    "    correction = 0\n",
    "    for i, location in enumerate(emotions['location']):\n",
    "        emoticon = emotions['value'][i]\n",
    "        start = location[0] + correction\n",
    "        end = location[1] + correction\n",
    "        meaning = emotions['mean'][i]\n",
    "        replacer_text = translated.translate(replacer(meaning))\n",
    "        text = text[:start] + replacer_text + text[end:]\n",
    "        correction += len(replacer_text) - len(emoticon)     # correction for the length of the emoticon\n",
    "    return text\n",
    "test = \"Hoi Andre i bi nöd bös :/, :D, :P, :), :(, :)), :))), :-)\"\n",
    "translate_emoticons(test)"
   ]
  },
  {
   "cell_type": "code",
   "execution_count": 48,
   "metadata": {},
   "outputs": [],
   "source": [
    "# need to install googletrans version 3.1.0a0\n",
    "def translate_swiss_german(text):\n",
    "    translator = Translator()\n",
    "    return translator.translate(translator.translate(text, src='de', dest='en').text, src='en', dest='de').text"
   ]
  },
  {
   "cell_type": "code",
   "execution_count": 49,
   "metadata": {},
   "outputs": [],
   "source": [
    "texte = ['Das isch en super Sach!', \n",
    "         'I lieb di au!', \n",
    "         \"Chrischtbaumschmuck, Brunsli, Nusshüüfeli, Haferflockeguetzli, Zimetstärn hani gärn, Mailänderli au, Aenisguetzli, Chrischtchindli, es lüütet es Glöögli, Schtilli Nacht, Schternschnuppe,s' Jesuschindli liit i de Chrippe, äs isch zu euch Mänsche uf d'Aerde abe cho\"]"
   ]
  },
  {
   "cell_type": "code",
   "execution_count": 50,
   "metadata": {},
   "outputs": [
    {
     "name": "stdout",
     "output_type": "stream",
     "text": [
      "Das isch en super Sach!\n",
      "Das ist eine tolle Sache!\n",
      "\n",
      "I lieb di au!\n",
      "Ich liebe dich jetzt!\n",
      "\n",
      "Chrischtbaumschmuck, Brunsli, Nusshüüfeli, Haferflockeguetzli, Zimetstärn hani gärn, Mailänderli au, Aenisguetzli, Chrischtchindli, es lüütet es Glöögli, Schtilli Nacht, Schternschnuppe,s' Jesuschindli liit i de Chrippe, äs isch zu euch Mänsche uf d'Aerde abe cho\n",
      "Christbaumschmuck, Brunsli, Nusshüüfeli, Haferflockenkekse, Zimtstangen Hani Gärn, Mailänderli au, Aenisguetzli, Chrischtchindli, es lüütet Glöögli, Schtilli Nacht, Schternschnuppe, s'Jesuschindli liit i de Chrippe, es ist euch Leuten auf d'Aerde aber cho\n",
      "\n"
     ]
    }
   ],
   "source": [
    "for text in texte:\n",
    "    print(text)\n",
    "    print(translate_swiss_german(text))\n",
    "    print()"
   ]
  },
  {
   "cell_type": "code",
   "execution_count": null,
   "metadata": {},
   "outputs": [],
   "source": []
  }
 ],
 "metadata": {
  "kernelspec": {
   "display_name": "Python 3",
   "language": "python",
   "name": "python3"
  },
  "language_info": {
   "codemirror_mode": {
    "name": "ipython",
    "version": 3
   },
   "file_extension": ".py",
   "mimetype": "text/x-python",
   "name": "python",
   "nbconvert_exporter": "python",
   "pygments_lexer": "ipython3",
   "version": "3.9.13"
  },
  "orig_nbformat": 4
 },
 "nbformat": 4,
 "nbformat_minor": 2
}
