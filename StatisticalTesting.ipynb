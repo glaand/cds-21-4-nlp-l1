{
 "cells": [
  {
   "attachments": {},
   "cell_type": "markdown",
   "metadata": {},
   "source": [
    "## Chi-Square Test"
   ]
  },
  {
   "cell_type": "code",
   "execution_count": 811,
   "metadata": {},
   "outputs": [],
   "source": [
    "\n",
    "# Example of the Chi-Squared Test\n",
    "from scipy.stats import chi2_contingency, combine_pvalues\n",
    "import pandas as pd\n",
    "import numpy as np\n",
    "import random\n",
    "\n",
    "our_sentiment = pd.read_csv('dataset/sentiment.csv')\n",
    "s_b_sentiment = pd.read_csv('dataset/sentiment.csv')\n",
    "\n",
    "features = ['pos', 'neg', 'neut']\n",
    "chi_square_p_values = {}"
   ]
  },
  {
   "cell_type": "code",
   "execution_count": 812,
   "metadata": {},
   "outputs": [
    {
     "name": "stdout",
     "output_type": "stream",
     "text": [
      "(0.0, 1.0, 4, array([[2326., 2326.],\n",
      "       [ 193.,  193.],\n",
      "       [ 172.,  172.],\n",
      "       [  97.,   97.],\n",
      "       [  11.,   11.]]))\n",
      "(0.0, 1.0, 4, array([[2.51e+03, 2.51e+03],\n",
      "       [1.30e+02, 1.30e+02],\n",
      "       [1.04e+02, 1.04e+02],\n",
      "       [5.30e+01, 5.30e+01],\n",
      "       [2.00e+00, 2.00e+00]]))\n",
      "(0.0, 1.0, 4, array([[1468., 1468.],\n",
      "       [ 549.,  549.],\n",
      "       [ 527.,  527.],\n",
      "       [ 232.,  232.],\n",
      "       [  23.,   23.]]))\n"
     ]
    }
   ],
   "source": [
    "for feature in features:\n",
    "    observed = our_sentiment[feature].to_numpy()\n",
    "    expected = s_b_sentiment[feature].to_numpy()\n",
    "    merged_df = pd.merge(our_sentiment, s_b_sentiment, on='sentence_id')\n",
    "    contingency_table = pd.DataFrame({'observed': merged_df[feature + '_x'].value_counts(), 'expected': merged_df[feature + '_y'].value_counts()})\n",
    "    contingency_table = contingency_table.fillna(0)\n",
    "    res = chi2_contingency(contingency_table)\n",
    "    print(res)\n",
    "    chi_square_p_values[feature] = res[1]"
   ]
  },
  {
   "cell_type": "code",
   "execution_count": 813,
   "metadata": {},
   "outputs": [
    {
     "data": {
      "text/plain": [
       "{'pos': 1.0, 'neg': 1.0, 'neut': 1.0}"
      ]
     },
     "execution_count": 813,
     "metadata": {},
     "output_type": "execute_result"
    }
   ],
   "source": [
    "chi_square_p_values"
   ]
  },
  {
   "attachments": {},
   "cell_type": "markdown",
   "metadata": {},
   "source": [
    "### Fisher method: Combine p-values of chi-squared"
   ]
  },
  {
   "cell_type": "code",
   "execution_count": 814,
   "metadata": {},
   "outputs": [
    {
     "name": "stdout",
     "output_type": "stream",
     "text": [
      "statistic:  -0.0\n",
      "p-value:  1.0\n",
      "Smaller than 0.05? False\n"
     ]
    }
   ],
   "source": [
    "statistic, pval = combine_pvalues(list(chi_square_p_values.values()), method='fisher')\n",
    "print('statistic: ', statistic)\n",
    "print('p-value: ', pval)\n",
    "print(f\"Smaller than 0.05? {pval < 0.05}\")"
   ]
  },
  {
   "attachments": {},
   "cell_type": "markdown",
   "metadata": {},
   "source": [
    "# Kolmogorov-Smirnov-Test"
   ]
  },
  {
   "cell_type": "code",
   "execution_count": 815,
   "metadata": {},
   "outputs": [],
   "source": [
    "from scipy.stats import ks_2samp, norm\n",
    "from statsmodels.stats.multitest import multipletests\n",
    "import pandas as pd\n",
    "import numpy as np\n",
    "\n",
    "our_sentiment = pd.read_csv('dataset/sentiment.csv')\n",
    "s_b_sentiment = pd.read_csv('dataset/sentiment.csv')\n",
    "\n",
    "features = ['pos', 'neg', 'neut']\n",
    "kolmogorov_smirnov_p_values = {}"
   ]
  },
  {
   "cell_type": "code",
   "execution_count": 816,
   "metadata": {},
   "outputs": [],
   "source": [
    "for feature in features:\n",
    "    observed = our_sentiment[feature].to_numpy()\n",
    "    expected = s_b_sentiment[feature].to_numpy()\n",
    "    expected = expected / expected.sum() * observed.sum()\n",
    "    stat, p = ks_2samp(observed, expected)\n",
    "    kolmogorov_smirnov_p_values[feature] = p"
   ]
  },
  {
   "cell_type": "code",
   "execution_count": 817,
   "metadata": {},
   "outputs": [
    {
     "data": {
      "text/plain": [
       "{'pos': 1.0, 'neg': 1.0, 'neut': 1.0}"
      ]
     },
     "execution_count": 817,
     "metadata": {},
     "output_type": "execute_result"
    }
   ],
   "source": [
    "kolmogorov_smirnov_p_values"
   ]
  },
  {
   "attachments": {},
   "cell_type": "markdown",
   "metadata": {},
   "source": [
    "### Fisher method: Combine p-values of kolmogorov-smirnov-test"
   ]
  },
  {
   "cell_type": "code",
   "execution_count": 818,
   "metadata": {},
   "outputs": [
    {
     "name": "stdout",
     "output_type": "stream",
     "text": [
      "p-value:  1.0\n",
      "Smaller than 0.05? False\n"
     ]
    }
   ],
   "source": [
    "statistic, pval = combine_pvalues(list(kolmogorov_smirnov_p_values.values()), method='fisher')\n",
    "print('p-value: ', pval)\n",
    "print(f\"Smaller than 0.05? {pval < 0.05}\")"
   ]
  }
 ],
 "metadata": {
  "kernelspec": {
   "display_name": "Python 3",
   "language": "python",
   "name": "python3"
  },
  "language_info": {
   "codemirror_mode": {
    "name": "ipython",
    "version": 3
   },
   "file_extension": ".py",
   "mimetype": "text/x-python",
   "name": "python",
   "nbconvert_exporter": "python",
   "pygments_lexer": "ipython3",
   "version": "3.8.10"
  },
  "orig_nbformat": 4
 },
 "nbformat": 4,
 "nbformat_minor": 2
}
