{
 "cells": [
  {
   "cell_type": "code",
   "execution_count": 1,
   "metadata": {},
   "outputs": [
    {
     "name": "stdout",
     "output_type": "stream",
     "text": [
      "Counting simulated participants choices...\n"
     ]
    }
   ],
   "source": [
    "import pandas as pd\n",
    "import numpy as np\n",
    "from pipeline import Pipeline\n",
    "\n",
    "sentiment_pairs =[\n",
    "    (pd.read_csv('models/en/results/model_en_1.csv'), pd.read_csv('models/de/results/model_de_1.csv')),\n",
    "    (pd.read_csv('models/en/results/model_en_2.csv'), pd.read_csv('models/de/results/model_de_2.csv')),\n",
    "    #(pd.read_csv('models/en/results/model_en_3.csv'), pd.read_csv('models/en/results/model_en_3.csv')), # faked because no de_3\n",
    "    #(pd.read_csv('models/en/results/model_en_4.csv'), pd.read_csv('models/en/results/model_en_4.csv')),  # faked because no de_4\n",
    "    #(pd.read_csv('models/en/results/model_en_4.csv'), pd.read_csv('models/en/results/model_en_4.csv'))  # faked because no en_5 de_5\n",
    "]\n",
    "counted_df = Pipeline().count_simulated_participants_choices(sentiment_pairs)"
   ]
  },
  {
   "cell_type": "code",
   "execution_count": 2,
   "metadata": {},
   "outputs": [
    {
     "data": {
      "text/html": [
       "<div>\n",
       "<style scoped>\n",
       "    .dataframe tbody tr th:only-of-type {\n",
       "        vertical-align: middle;\n",
       "    }\n",
       "\n",
       "    .dataframe tbody tr th {\n",
       "        vertical-align: top;\n",
       "    }\n",
       "\n",
       "    .dataframe thead th {\n",
       "        text-align: right;\n",
       "    }\n",
       "</style>\n",
       "<table border=\"1\" class=\"dataframe\">\n",
       "  <thead>\n",
       "    <tr style=\"text-align: right;\">\n",
       "      <th></th>\n",
       "      <th>sentence_id</th>\n",
       "      <th>pos</th>\n",
       "      <th>neut</th>\n",
       "      <th>neg</th>\n",
       "    </tr>\n",
       "  </thead>\n",
       "  <tbody>\n",
       "    <tr>\n",
       "      <th>0</th>\n",
       "      <td>9227</td>\n",
       "      <td>0</td>\n",
       "      <td>2</td>\n",
       "      <td>0</td>\n",
       "    </tr>\n",
       "    <tr>\n",
       "      <th>1</th>\n",
       "      <td>9229</td>\n",
       "      <td>0</td>\n",
       "      <td>1</td>\n",
       "      <td>1</td>\n",
       "    </tr>\n",
       "    <tr>\n",
       "      <th>2</th>\n",
       "      <td>9230</td>\n",
       "      <td>0</td>\n",
       "      <td>2</td>\n",
       "      <td>0</td>\n",
       "    </tr>\n",
       "    <tr>\n",
       "      <th>3</th>\n",
       "      <td>9231</td>\n",
       "      <td>0</td>\n",
       "      <td>2</td>\n",
       "      <td>0</td>\n",
       "    </tr>\n",
       "    <tr>\n",
       "      <th>4</th>\n",
       "      <td>9232</td>\n",
       "      <td>1</td>\n",
       "      <td>1</td>\n",
       "      <td>0</td>\n",
       "    </tr>\n",
       "    <tr>\n",
       "      <th>...</th>\n",
       "      <td>...</td>\n",
       "      <td>...</td>\n",
       "      <td>...</td>\n",
       "      <td>...</td>\n",
       "    </tr>\n",
       "    <tr>\n",
       "      <th>147836</th>\n",
       "      <td>175135</td>\n",
       "      <td>0</td>\n",
       "      <td>2</td>\n",
       "      <td>0</td>\n",
       "    </tr>\n",
       "    <tr>\n",
       "      <th>147837</th>\n",
       "      <td>175136</td>\n",
       "      <td>0</td>\n",
       "      <td>2</td>\n",
       "      <td>0</td>\n",
       "    </tr>\n",
       "    <tr>\n",
       "      <th>147838</th>\n",
       "      <td>175137</td>\n",
       "      <td>2</td>\n",
       "      <td>0</td>\n",
       "      <td>0</td>\n",
       "    </tr>\n",
       "    <tr>\n",
       "      <th>147839</th>\n",
       "      <td>175138</td>\n",
       "      <td>0</td>\n",
       "      <td>2</td>\n",
       "      <td>0</td>\n",
       "    </tr>\n",
       "    <tr>\n",
       "      <th>147840</th>\n",
       "      <td>175139</td>\n",
       "      <td>0</td>\n",
       "      <td>2</td>\n",
       "      <td>0</td>\n",
       "    </tr>\n",
       "  </tbody>\n",
       "</table>\n",
       "<p>147841 rows × 4 columns</p>\n",
       "</div>"
      ],
      "text/plain": [
       "        sentence_id  pos  neut  neg\n",
       "0              9227    0     2    0\n",
       "1              9229    0     1    1\n",
       "2              9230    0     2    0\n",
       "3              9231    0     2    0\n",
       "4              9232    1     1    0\n",
       "...             ...  ...   ...  ...\n",
       "147836       175135    0     2    0\n",
       "147837       175136    0     2    0\n",
       "147838       175137    2     0    0\n",
       "147839       175138    0     2    0\n",
       "147840       175139    0     2    0\n",
       "\n",
       "[147841 rows x 4 columns]"
      ]
     },
     "execution_count": 2,
     "metadata": {},
     "output_type": "execute_result"
    }
   ],
   "source": [
    "counted_df"
   ]
  },
  {
   "cell_type": "code",
   "execution_count": 3,
   "metadata": {},
   "outputs": [],
   "source": [
    "def reduce_to_one_choice(df):\n",
    "    df[\"max_num\"] = df[[\"pos\", \"neut\", \"neg\"]].max(axis=1)\n",
    "    df.loc[df[\"pos\"] < df[\"max_num\"], \"pos\"] = 0\n",
    "    df.loc[df[\"pos\"] == df[\"max_num\"], \"pos\"] = 1\n",
    "    df.loc[df[\"neut\"] < df[\"max_num\"], \"neut\"] = 0\n",
    "    df.loc[df[\"neut\"] == df[\"max_num\"], \"neut\"] = 1\n",
    "    df.loc[df[\"neg\"] < df[\"max_num\"], \"neg\"] = 0\n",
    "    df.loc[df[\"neg\"] == df[\"max_num\"], \"neg\"] = 1\n",
    "    df = df.drop(\"max_num\", axis=1)\n",
    "    return df"
   ]
  },
  {
   "attachments": {},
   "cell_type": "markdown",
   "metadata": {},
   "source": [
    "## Load Dataframes"
   ]
  },
  {
   "cell_type": "code",
   "execution_count": 4,
   "metadata": {},
   "outputs": [],
   "source": [
    "our_sentiment = counted_df\n",
    "s_b_sentiment = pd.read_csv('dataset/sentiment.csv')"
   ]
  },
  {
   "cell_type": "code",
   "execution_count": 5,
   "metadata": {},
   "outputs": [
    {
     "data": {
      "text/plain": [
       "False"
      ]
     },
     "execution_count": 5,
     "metadata": {},
     "output_type": "execute_result"
    }
   ],
   "source": [
    "s_b_sentiment[[\"un\", \"unsure\", \"pos\", \"neut\", \"neg\"]].sum(axis=1).eq(5).any()\n",
    "# Out[1]: False"
   ]
  },
  {
   "cell_type": "code",
   "execution_count": 6,
   "metadata": {},
   "outputs": [],
   "source": [
    "s_b_sentiment['new_neut'] = s_b_sentiment['un'] + s_b_sentiment['unsure'] + s_b_sentiment['neut']\n",
    "s_b_sentiment = s_b_sentiment.drop(['un', 'unsure', 'neut'], axis=1)\n",
    "s_b_sentiment = s_b_sentiment.rename(columns={'new_neut': 'neut'})\n",
    "features = ['pos', 'neg', 'neut']"
   ]
  },
  {
   "cell_type": "code",
   "execution_count": 7,
   "metadata": {},
   "outputs": [
    {
     "data": {
      "text/html": [
       "<div>\n",
       "<style scoped>\n",
       "    .dataframe tbody tr th:only-of-type {\n",
       "        vertical-align: middle;\n",
       "    }\n",
       "\n",
       "    .dataframe tbody tr th {\n",
       "        vertical-align: top;\n",
       "    }\n",
       "\n",
       "    .dataframe thead th {\n",
       "        text-align: right;\n",
       "    }\n",
       "</style>\n",
       "<table border=\"1\" class=\"dataframe\">\n",
       "  <thead>\n",
       "    <tr style=\"text-align: right;\">\n",
       "      <th></th>\n",
       "      <th>sentence_id</th>\n",
       "      <th>pos</th>\n",
       "      <th>neut</th>\n",
       "      <th>neg</th>\n",
       "    </tr>\n",
       "  </thead>\n",
       "  <tbody>\n",
       "    <tr>\n",
       "      <th>0</th>\n",
       "      <td>9227</td>\n",
       "      <td>0</td>\n",
       "      <td>1</td>\n",
       "      <td>0</td>\n",
       "    </tr>\n",
       "    <tr>\n",
       "      <th>1</th>\n",
       "      <td>9229</td>\n",
       "      <td>0</td>\n",
       "      <td>1</td>\n",
       "      <td>1</td>\n",
       "    </tr>\n",
       "    <tr>\n",
       "      <th>2</th>\n",
       "      <td>9230</td>\n",
       "      <td>0</td>\n",
       "      <td>1</td>\n",
       "      <td>0</td>\n",
       "    </tr>\n",
       "    <tr>\n",
       "      <th>3</th>\n",
       "      <td>9231</td>\n",
       "      <td>0</td>\n",
       "      <td>1</td>\n",
       "      <td>0</td>\n",
       "    </tr>\n",
       "    <tr>\n",
       "      <th>4</th>\n",
       "      <td>9232</td>\n",
       "      <td>1</td>\n",
       "      <td>1</td>\n",
       "      <td>0</td>\n",
       "    </tr>\n",
       "    <tr>\n",
       "      <th>...</th>\n",
       "      <td>...</td>\n",
       "      <td>...</td>\n",
       "      <td>...</td>\n",
       "      <td>...</td>\n",
       "    </tr>\n",
       "    <tr>\n",
       "      <th>147836</th>\n",
       "      <td>175135</td>\n",
       "      <td>0</td>\n",
       "      <td>1</td>\n",
       "      <td>0</td>\n",
       "    </tr>\n",
       "    <tr>\n",
       "      <th>147837</th>\n",
       "      <td>175136</td>\n",
       "      <td>0</td>\n",
       "      <td>1</td>\n",
       "      <td>0</td>\n",
       "    </tr>\n",
       "    <tr>\n",
       "      <th>147838</th>\n",
       "      <td>175137</td>\n",
       "      <td>1</td>\n",
       "      <td>0</td>\n",
       "      <td>0</td>\n",
       "    </tr>\n",
       "    <tr>\n",
       "      <th>147839</th>\n",
       "      <td>175138</td>\n",
       "      <td>0</td>\n",
       "      <td>1</td>\n",
       "      <td>0</td>\n",
       "    </tr>\n",
       "    <tr>\n",
       "      <th>147840</th>\n",
       "      <td>175139</td>\n",
       "      <td>0</td>\n",
       "      <td>1</td>\n",
       "      <td>0</td>\n",
       "    </tr>\n",
       "  </tbody>\n",
       "</table>\n",
       "<p>147841 rows × 4 columns</p>\n",
       "</div>"
      ],
      "text/plain": [
       "        sentence_id  pos  neut  neg\n",
       "0              9227    0     1    0\n",
       "1              9229    0     1    1\n",
       "2              9230    0     1    0\n",
       "3              9231    0     1    0\n",
       "4              9232    1     1    0\n",
       "...             ...  ...   ...  ...\n",
       "147836       175135    0     1    0\n",
       "147837       175136    0     1    0\n",
       "147838       175137    1     0    0\n",
       "147839       175138    0     1    0\n",
       "147840       175139    0     1    0\n",
       "\n",
       "[147841 rows x 4 columns]"
      ]
     },
     "execution_count": 7,
     "metadata": {},
     "output_type": "execute_result"
    }
   ],
   "source": [
    "our_sentiment = reduce_to_one_choice(our_sentiment)\n",
    "our_sentiment"
   ]
  },
  {
   "cell_type": "code",
   "execution_count": 8,
   "metadata": {},
   "outputs": [
    {
     "data": {
      "text/html": [
       "<div>\n",
       "<style scoped>\n",
       "    .dataframe tbody tr th:only-of-type {\n",
       "        vertical-align: middle;\n",
       "    }\n",
       "\n",
       "    .dataframe tbody tr th {\n",
       "        vertical-align: top;\n",
       "    }\n",
       "\n",
       "    .dataframe thead th {\n",
       "        text-align: right;\n",
       "    }\n",
       "</style>\n",
       "<table border=\"1\" class=\"dataframe\">\n",
       "  <thead>\n",
       "    <tr style=\"text-align: right;\">\n",
       "      <th></th>\n",
       "      <th>sentence_id</th>\n",
       "      <th>neg</th>\n",
       "      <th>pos</th>\n",
       "      <th>neut</th>\n",
       "    </tr>\n",
       "  </thead>\n",
       "  <tbody>\n",
       "    <tr>\n",
       "      <th>0</th>\n",
       "      <td>9385</td>\n",
       "      <td>0</td>\n",
       "      <td>1</td>\n",
       "      <td>0</td>\n",
       "    </tr>\n",
       "    <tr>\n",
       "      <th>1</th>\n",
       "      <td>9425</td>\n",
       "      <td>0</td>\n",
       "      <td>0</td>\n",
       "      <td>1</td>\n",
       "    </tr>\n",
       "    <tr>\n",
       "      <th>2</th>\n",
       "      <td>9447</td>\n",
       "      <td>0</td>\n",
       "      <td>0</td>\n",
       "      <td>1</td>\n",
       "    </tr>\n",
       "    <tr>\n",
       "      <th>3</th>\n",
       "      <td>9448</td>\n",
       "      <td>0</td>\n",
       "      <td>0</td>\n",
       "      <td>1</td>\n",
       "    </tr>\n",
       "    <tr>\n",
       "      <th>4</th>\n",
       "      <td>9613</td>\n",
       "      <td>0</td>\n",
       "      <td>1</td>\n",
       "      <td>0</td>\n",
       "    </tr>\n",
       "    <tr>\n",
       "      <th>...</th>\n",
       "      <td>...</td>\n",
       "      <td>...</td>\n",
       "      <td>...</td>\n",
       "      <td>...</td>\n",
       "    </tr>\n",
       "    <tr>\n",
       "      <th>2794</th>\n",
       "      <td>175035</td>\n",
       "      <td>0</td>\n",
       "      <td>1</td>\n",
       "      <td>1</td>\n",
       "    </tr>\n",
       "    <tr>\n",
       "      <th>2795</th>\n",
       "      <td>175089</td>\n",
       "      <td>0</td>\n",
       "      <td>0</td>\n",
       "      <td>1</td>\n",
       "    </tr>\n",
       "    <tr>\n",
       "      <th>2796</th>\n",
       "      <td>175106</td>\n",
       "      <td>0</td>\n",
       "      <td>0</td>\n",
       "      <td>1</td>\n",
       "    </tr>\n",
       "    <tr>\n",
       "      <th>2797</th>\n",
       "      <td>175107</td>\n",
       "      <td>0</td>\n",
       "      <td>1</td>\n",
       "      <td>0</td>\n",
       "    </tr>\n",
       "    <tr>\n",
       "      <th>2798</th>\n",
       "      <td>175122</td>\n",
       "      <td>0</td>\n",
       "      <td>0</td>\n",
       "      <td>1</td>\n",
       "    </tr>\n",
       "  </tbody>\n",
       "</table>\n",
       "<p>2799 rows × 4 columns</p>\n",
       "</div>"
      ],
      "text/plain": [
       "      sentence_id  neg  pos  neut\n",
       "0            9385    0    1     0\n",
       "1            9425    0    0     1\n",
       "2            9447    0    0     1\n",
       "3            9448    0    0     1\n",
       "4            9613    0    1     0\n",
       "...           ...  ...  ...   ...\n",
       "2794       175035    0    1     1\n",
       "2795       175089    0    0     1\n",
       "2796       175106    0    0     1\n",
       "2797       175107    0    1     0\n",
       "2798       175122    0    0     1\n",
       "\n",
       "[2799 rows x 4 columns]"
      ]
     },
     "execution_count": 8,
     "metadata": {},
     "output_type": "execute_result"
    }
   ],
   "source": [
    "s_b_sentiment = reduce_to_one_choice(s_b_sentiment)\n",
    "s_b_sentiment"
   ]
  },
  {
   "attachments": {},
   "cell_type": "markdown",
   "metadata": {},
   "source": [
    "## Chi-Square Test"
   ]
  },
  {
   "cell_type": "code",
   "execution_count": 9,
   "metadata": {},
   "outputs": [],
   "source": [
    "\n",
    "# Example of the Chi-Squared Test\n",
    "from scipy.stats import chi2_contingency, combine_pvalues\n",
    "import pandas as pd\n",
    "\n",
    "chi_square_p_values = {}"
   ]
  },
  {
   "cell_type": "code",
   "execution_count": 10,
   "metadata": {},
   "outputs": [],
   "source": [
    "for feature in features:\n",
    "    observed = our_sentiment[feature].to_numpy()\n",
    "    expected = s_b_sentiment[feature].to_numpy()\n",
    "    merged_df = pd.merge(our_sentiment, s_b_sentiment, on='sentence_id')\n",
    "    contingency_table = pd.DataFrame({'observed': merged_df[feature + '_x'].value_counts(), 'expected': merged_df[feature + '_y'].value_counts()})\n",
    "    contingency_table = contingency_table.fillna(0)\n",
    "    res = chi2_contingency(contingency_table)\n",
    "    chi_square_p_values[feature] = round(res[1], 4)"
   ]
  },
  {
   "cell_type": "code",
   "execution_count": 11,
   "metadata": {},
   "outputs": [
    {
     "data": {
      "text/plain": [
       "{'pos': 0.0, 'neg': 0.0, 'neut': 0.0007}"
      ]
     },
     "execution_count": 11,
     "metadata": {},
     "output_type": "execute_result"
    }
   ],
   "source": [
    "chi_square_p_values"
   ]
  },
  {
   "attachments": {},
   "cell_type": "markdown",
   "metadata": {},
   "source": [
    "### Fisher method: Combine p-values of chi-squared"
   ]
  },
  {
   "cell_type": "code",
   "execution_count": 12,
   "metadata": {},
   "outputs": [
    {
     "name": "stdout",
     "output_type": "stream",
     "text": [
      "statistic:  inf\n",
      "p-value:  0.0\n",
      "Smaller than 0.05? True\n"
     ]
    },
    {
     "name": "stderr",
     "output_type": "stream",
     "text": [
      "/home/glatzl/.local/lib/python3.8/site-packages/scipy/stats/_stats_py.py:8161: RuntimeWarning: divide by zero encountered in log\n",
      "  statistic = -2 * np.sum(np.log(pvalues))\n"
     ]
    }
   ],
   "source": [
    "statistic, pval = combine_pvalues(list(chi_square_p_values.values()), method='fisher')\n",
    "print('statistic: ', statistic)\n",
    "print('p-value: ', pval)\n",
    "print(f\"Smaller than 0.05? {pval < 0.05}\")"
   ]
  },
  {
   "attachments": {},
   "cell_type": "markdown",
   "metadata": {},
   "source": [
    "# Kolmogorov-Smirnov-Test"
   ]
  },
  {
   "cell_type": "code",
   "execution_count": 13,
   "metadata": {},
   "outputs": [],
   "source": [
    "from scipy.stats import ks_2samp, norm\n",
    "from statsmodels.stats.multitest import multipletests\n",
    "import pandas as pd\n",
    "\n",
    "kolmogorov_smirnov_p_values = {}"
   ]
  },
  {
   "cell_type": "code",
   "execution_count": 14,
   "metadata": {},
   "outputs": [],
   "source": [
    "for feature in features:\n",
    "    observed = our_sentiment[feature].to_numpy()\n",
    "    expected = s_b_sentiment[feature].to_numpy()\n",
    "    expected = expected / expected.sum() * observed.sum()\n",
    "    stat, p = ks_2samp(observed, expected)\n",
    "    kolmogorov_smirnov_p_values[feature] = round(p, 4)"
   ]
  },
  {
   "cell_type": "code",
   "execution_count": 15,
   "metadata": {},
   "outputs": [
    {
     "data": {
      "text/plain": [
       "{'pos': 0.0, 'neg': 0.0, 'neut': 0.0}"
      ]
     },
     "execution_count": 15,
     "metadata": {},
     "output_type": "execute_result"
    }
   ],
   "source": [
    "kolmogorov_smirnov_p_values"
   ]
  },
  {
   "attachments": {},
   "cell_type": "markdown",
   "metadata": {},
   "source": [
    "### Fisher method: Combine p-values of kolmogorov-smirnov-test"
   ]
  },
  {
   "cell_type": "code",
   "execution_count": 16,
   "metadata": {},
   "outputs": [
    {
     "name": "stdout",
     "output_type": "stream",
     "text": [
      "p-value:  0.0\n",
      "Smaller than 0.05? True\n"
     ]
    }
   ],
   "source": [
    "statistic, pval = combine_pvalues(list(kolmogorov_smirnov_p_values.values()), method='fisher')\n",
    "print('p-value: ', pval)\n",
    "print(f\"Smaller than 0.05? {pval < 0.05}\")"
   ]
  }
 ],
 "metadata": {
  "kernelspec": {
   "display_name": "Python 3",
   "language": "python",
   "name": "python3"
  },
  "language_info": {
   "codemirror_mode": {
    "name": "ipython",
    "version": 3
   },
   "file_extension": ".py",
   "mimetype": "text/x-python",
   "name": "python",
   "nbconvert_exporter": "python",
   "pygments_lexer": "ipython3",
   "version": "3.8.10"
  },
  "orig_nbformat": 4
 },
 "nbformat": 4,
 "nbformat_minor": 2
}
