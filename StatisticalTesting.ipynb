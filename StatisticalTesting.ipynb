{
 "cells": [
  {
   "attachments": {},
   "cell_type": "markdown",
   "metadata": {},
   "source": [
    "## Chi-Square Test"
   ]
  },
  {
   "cell_type": "code",
   "execution_count": 729,
   "metadata": {},
   "outputs": [],
   "source": [
    "\n",
    "# Example of the Chi-Squared Test\n",
    "from scipy.stats import chi2_contingency, combine_pvalues\n",
    "import pandas as pd\n",
    "import numpy as np\n",
    "import random\n",
    "\n",
    "our_sentiment = pd.read_csv('dataset/sentiment_test.csv')\n",
    "s_b_sentiment = pd.read_csv('dataset/sentiment.csv')\n",
    "\n",
    "features = ['pos', 'neg', 'neut']\n",
    "chi_square_p_values = {}"
   ]
  },
  {
   "cell_type": "code",
   "execution_count": 730,
   "metadata": {},
   "outputs": [],
   "source": [
    "for feature in features:\n",
    "    observed = our_sentiment[feature].to_numpy()\n",
    "    expected = s_b_sentiment[feature].to_numpy()\n",
    "    merged_df = pd.merge(our_sentiment, s_b_sentiment, on='sentence_id')\n",
    "    contingency_table = pd.DataFrame({'observed': merged_df['pos_x'].value_counts(), 'expected': merged_df['pos_y'].value_counts()})\n",
    "    contingency_table = contingency_table.fillna(0)\n",
    "    res = chi2_contingency(contingency_table)\n",
    "    chi_square_p_values[feature] = res[1]"
   ]
  },
  {
   "cell_type": "code",
   "execution_count": 731,
   "metadata": {},
   "outputs": [
    {
     "data": {
      "text/plain": [
       "{'pos': 5.531185435643268e-44,\n",
       " 'neg': 5.531185435643268e-44,\n",
       " 'neut': 5.531185435643268e-44}"
      ]
     },
     "execution_count": 731,
     "metadata": {},
     "output_type": "execute_result"
    }
   ],
   "source": [
    "chi_square_p_values"
   ]
  },
  {
   "attachments": {},
   "cell_type": "markdown",
   "metadata": {},
   "source": [
    "### Fisher method: Combine p-values of chi-squared"
   ]
  },
  {
   "cell_type": "code",
   "execution_count": 732,
   "metadata": {},
   "outputs": [
    {
     "name": "stdout",
     "output_type": "stream",
     "text": [
      "p-value:  7.60539536047689e-126\n",
      "Smaller than 0.05? True\n"
     ]
    }
   ],
   "source": [
    "statistic, pval = combine_pvalues(list(chi_square_p_values.values()), method='fisher')\n",
    "print('p-value: ', pval)\n",
    "print(f\"Smaller than 0.05? {pval < 0.05}\")"
   ]
  },
  {
   "attachments": {},
   "cell_type": "markdown",
   "metadata": {},
   "source": [
    "# Kolmogorov-Smirnov-Test"
   ]
  },
  {
   "cell_type": "code",
   "execution_count": 733,
   "metadata": {},
   "outputs": [],
   "source": [
    "from scipy.stats import ks_2samp, norm\n",
    "from statsmodels.stats.multitest import multipletests\n",
    "import pandas as pd\n",
    "import numpy as np\n",
    "\n",
    "our_sentiment = pd.read_csv('dataset/sentiment_test.csv')\n",
    "s_b_sentiment = pd.read_csv('dataset/sentiment.csv')\n",
    "\n",
    "features = ['pos', 'neg', 'neut']\n",
    "kolmogorov_smirnov_p_values = {}"
   ]
  },
  {
   "cell_type": "code",
   "execution_count": 734,
   "metadata": {},
   "outputs": [],
   "source": [
    "z_sum = 0\n",
    "for feature in features:\n",
    "    observed = our_sentiment[feature].to_numpy()\n",
    "    expected = s_b_sentiment[feature].to_numpy()\n",
    "    expected = expected / expected.sum() * observed.sum()\n",
    "    stat, p = ks_2samp(observed, expected)\n",
    "    z_sum += norm.ppf(1 - p)\n",
    "    kolmogorov_smirnov_p_values[feature] = p"
   ]
  },
  {
   "cell_type": "code",
   "execution_count": 735,
   "metadata": {},
   "outputs": [
    {
     "data": {
      "text/plain": [
       "{'pos': 4.769864577993995e-13, 'neg': 1.0, 'neut': 1.0}"
      ]
     },
     "execution_count": 735,
     "metadata": {},
     "output_type": "execute_result"
    }
   ],
   "source": [
    "kolmogorov_smirnov_p_values"
   ]
  },
  {
   "attachments": {},
   "cell_type": "markdown",
   "metadata": {},
   "source": [
    "### Fisher method: Combine p-values of kolmogorov-smirnov-test"
   ]
  },
  {
   "cell_type": "code",
   "execution_count": 736,
   "metadata": {},
   "outputs": [
    {
     "name": "stdout",
     "output_type": "stream",
     "text": [
      "p-value:  2.059800613850802e-10\n",
      "Smaller than 0.05? True\n"
     ]
    }
   ],
   "source": [
    "statistic, pval = combine_pvalues(list(kolmogorov_smirnov_p_values.values()), method='fisher')\n",
    "print('p-value: ', pval)\n",
    "print(f\"Smaller than 0.05? {pval < 0.05}\")"
   ]
  }
 ],
 "metadata": {
  "kernelspec": {
   "display_name": "Python 3",
   "language": "python",
   "name": "python3"
  },
  "language_info": {
   "codemirror_mode": {
    "name": "ipython",
    "version": 3
   },
   "file_extension": ".py",
   "mimetype": "text/x-python",
   "name": "python",
   "nbconvert_exporter": "python",
   "pygments_lexer": "ipython3",
   "version": "3.8.10"
  },
  "orig_nbformat": 4
 },
 "nbformat": 4,
 "nbformat_minor": 2
}
